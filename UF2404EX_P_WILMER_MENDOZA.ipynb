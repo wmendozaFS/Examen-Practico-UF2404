{
 "cells": [
  {
   "cell_type": "markdown",
   "id": "d3f858e5",
   "metadata": {},
   "source": [
    "#### **EJERCICIO 1.** Crea una clase llamada **Personas** que tenga dos atributos **nombre** y **edad** luego crea una instancia con tus propios datos e imprime un mensaje como \"Hola, mellamo Ana y tengo 30 añios\""
   ]
  },
  {
   "cell_type": "code",
   "execution_count": 45,
   "id": "c7841108",
   "metadata": {},
   "outputs": [
    {
     "name": "stdout",
     "output_type": "stream",
     "text": [
      "Mi nombre es Wilmer y tengo 38 de edad\n"
     ]
    }
   ],
   "source": [
    "class Persona:\n",
    "    def __init__(self, nombre, edad):\n",
    "        self.nombre = nombre\n",
    "        self.edad = edad\n",
    "        \n",
    "    def __str__(self):\n",
    "        return f\"Mi nombre es {self.nombre} y tengo {self.edad} de edad\"\n",
    "    \n",
    "persona_1= Persona(\"Wilmer\", 38)\n",
    "print(persona_1)"
   ]
  },
  {
   "cell_type": "markdown",
   "id": "7b200039",
   "metadata": {},
   "source": [
    "#### **EJERCICIO 2.** Agrega a la clase **Persona** un metodo llamado **Saludar()** que imprima \"Hola, soy {nombre}. ¿como estas?\""
   ]
  },
  {
   "cell_type": "code",
   "execution_count": 46,
   "id": "8a6d20c0",
   "metadata": {},
   "outputs": [
    {
     "name": "stdout",
     "output_type": "stream",
     "text": [
      "Hola, soy Wilmer. ¿como estas?\n"
     ]
    }
   ],
   "source": [
    "class Persona:\n",
    "    def __init__(self, nombre, edad):\n",
    "        self.nombre = nombre\n",
    "        self.edad = edad\n",
    "    def __str__(self):\n",
    "        return f\"Mi nombre es: {self.nombre} y tengo {self.edad} de edad\"\n",
    "    \n",
    "    def saludar(self):\n",
    "        return f\"Hola, soy {self.nombre}. ¿como estas?\"\n",
    "    \n",
    "persona_1= Persona(\"Wilmer\", 38)\n",
    "print(persona_1.saludar())"
   ]
  },
  {
   "cell_type": "markdown",
   "id": "12f9691a",
   "metadata": {},
   "source": [
    "#### **EJERCICIO 3.** Modifica la clase persona para que use el metodo **__init__** y añade un atriburo **\"Profesion\"** que sea opcional en el constructor y que si no implementa su valor sea **\"sin determinar\"** luego crea dos personas distintas una de ellas **\"Ingeniera\"** y la otra se desconoce"
   ]
  },
  {
   "cell_type": "code",
   "execution_count": 47,
   "id": "bcf82c27",
   "metadata": {},
   "outputs": [
    {
     "name": "stdout",
     "output_type": "stream",
     "text": [
      "Mi nombre es Wilmer, tengo 38 años de edad y mi profesion es Ingeniero\n",
      "Mi nombre es Ana, tengo 25 años de edad y mi profesion es sin determinar\n"
     ]
    }
   ],
   "source": [
    "class Persona:\n",
    "    def __init__(self, nombre, edad, profesion=\"sin determinar\"):\n",
    "        self.nombre = nombre\n",
    "        self.edad = edad\n",
    "        self.profesion = profesion\n",
    "        \n",
    "    def __str__(self):\n",
    "        return f\"Mi nombre es {self.nombre}, tengo {self.edad} años de edad y mi profesion es {self.profesion}\"\n",
    "persona_1 = Persona(\"Wilmer\", 38, \"Ingeniero\")\n",
    "persona_2 = Persona(\"Ana\", 25) \n",
    "print(persona_1)\n",
    "print(persona_2)\n"
   ]
  },
  {
   "cell_type": "markdown",
   "id": "810b7d52",
   "metadata": {},
   "source": [
    "#### **EJERCICIO 4.** Crea una clase **Empleado** que herede de **Persona** y tenga un atributo adicional **sueldo**."
   ]
  },
  {
   "cell_type": "code",
   "execution_count": 48,
   "id": "27d422ac",
   "metadata": {},
   "outputs": [
    {
     "name": "stdout",
     "output_type": "stream",
     "text": [
      "Mi nombre es Wilmer, tengo 38 años de edad y mi profesion es Ingeniero y mi sueldo es 5000\n",
      "Mi nombre es Ana, tengo 32 años de edad y mi profesion es sin determinar y mi sueldo es 4000\n"
     ]
    }
   ],
   "source": [
    "class Empleado(Persona):\n",
    "    def __init__(self, nombre, edad, sueldo, profesion=\"sin determinar\"):\n",
    "        super().__init__(nombre, edad, profesion)\n",
    "        self.sueldo = sueldo\n",
    "        \n",
    "    def __str__(self):\n",
    "        return f\"{super().__str__()} y mi sueldo es {self.sueldo}\"\n",
    "\n",
    "empleado_1 = Empleado(\"Wilmer\", 38, 5000, \"Ingeniero\")\n",
    "empleado_2 = Empleado(\"Ana\", 32, 4000)\n",
    "print(empleado_1)\n",
    "print(empleado_2)"
   ]
  },
  {
   "cell_type": "markdown",
   "id": "7641e391",
   "metadata": {},
   "source": [
    "#### **EJERCICIO 5.** Crea dos clases **Perro** y **Gato** cada una con metodo **hablar()** qu imprima sonidos distintos."
   ]
  },
  {
   "cell_type": "code",
   "execution_count": 49,
   "id": "1a30d29b",
   "metadata": {},
   "outputs": [
    {
     "name": "stdout",
     "output_type": "stream",
     "text": [
      "El perro hace Guau! Guau! y el gato hace Miau! Miau!\n"
     ]
    }
   ],
   "source": [
    "class Perro:\n",
    "    def hablar(self):\n",
    "        return \"Guau! Guau!\"\n",
    "\n",
    "class Gato:\n",
    "    def hablar(self):\n",
    "        return \"Miau! Miau!\"\n",
    "\n",
    "perro = Perro()\n",
    "gato = Gato()\n",
    "print(f\"El perro hace {perro.hablar()} y el gato hace {gato.hablar()}\")\n",
    "\n"
   ]
  },
  {
   "cell_type": "markdown",
   "id": "54523724",
   "metadata": {},
   "source": [
    "#### **EJERCICIO 6.** Composicion. Crea una clase **Motor** y una clase **Coche** que contenga un objeto **\"Motor\"**"
   ]
  },
  {
   "cell_type": "code",
   "execution_count": 50,
   "id": "1803bbf9",
   "metadata": {},
   "outputs": [
    {
     "name": "stdout",
     "output_type": "stream",
     "text": [
      "Coche Toyota Hylux con Motor de tipo V8 y potencia 300 HP\n"
     ]
    }
   ],
   "source": [
    "class Motor:\n",
    "    def __init__(self, tipo, potencia=120):\n",
    "        self.tipo = tipo\n",
    "        self.potencia = potencia\n",
    "        \n",
    "    def __str__(self):\n",
    "        return f\"Motor de tipo {self.tipo} y potencia {self.potencia} HP\"\n",
    "class Coche:\n",
    "    def __init__(self, marca, modelo, motor):\n",
    "        self.marca = marca\n",
    "        self.modelo = modelo\n",
    "        self.motor = motor\n",
    "        \n",
    "    def __str__(self):\n",
    "        return f\"Coche {self.marca} {self.modelo} con {self.motor}\"\n",
    "\n",
    "motor1 = Motor(\"V8\", 300)\n",
    "coche1 = Coche(\"Toyota\", \"Hylux\", motor1)\n",
    "print(coche1)\n"
   ]
  },
  {
   "cell_type": "markdown",
   "id": "805787d5",
   "metadata": {},
   "source": [
    "#### **EJERCICIO 7.** Encapsulamiento. Crea una clase **CuentaBncaria** con un atriburo privado **__saldo**. Añade metodos para depositar y retirar dinero."
   ]
  },
  {
   "cell_type": "code",
   "execution_count": 51,
   "id": "b67fd5a2",
   "metadata": {},
   "outputs": [
    {
     "name": "stdout",
     "output_type": "stream",
     "text": [
      "Saldo Actual : 100\n",
      "Wiler tu saldo actual es : 150\n",
      " Su retiro fue exitoso : 120\n",
      "Wiler tu saldo actual es : 30\n",
      " Cantidad solicitada: 50\n",
      " Fondos insuficientes\n"
     ]
    }
   ],
   "source": [
    "class CuentaBancaria:\n",
    "    def __init__ (self, titular, saldo_ini):\n",
    "        self.titular =titular\n",
    "        self.__saldo =saldo_ini\n",
    "    \n",
    "    def ingresar(self, cantidad):\n",
    "        if cantidad>0:\n",
    "            self.__saldo+=cantidad\n",
    "        else:\n",
    "            print(\"El ingreso debe ser positivo\")\n",
    "            \n",
    "    def retirar(self, cantidad):\n",
    "        if 0 < cantidad <= self.__saldo:\n",
    "            self.__saldo -= cantidad\n",
    "            print(f\" Su retiro fue exitoso : {cantidad}\")\n",
    "        else:\n",
    "            print(f\" Cantidad solicitada: {cantidad}\\n Fondos insuficientes\")\n",
    "    \n",
    "    def cambiar_titular(self, nuevo_titular):\n",
    "        self.titular = nuevo_titular\n",
    "        print(f\"Titular actualizado a: {self.titular}\")\n",
    "        \n",
    "    def mostrar_saldo(self):\n",
    "        print(f\"Saldo Actual : {self.__saldo}\")\n",
    "    \n",
    "    def __str__(self):\n",
    "        return f\"{self.titular} tu saldo actual es : {self.__saldo}\"\n",
    "\n",
    "cuenta_1=CuentaBancaria(\"Wiler\", 100)  \n",
    "cuenta_1.mostrar_saldo()\n",
    "cuenta_1.ingresar(50)\n",
    "print(cuenta_1)\n",
    "cuenta_1.retirar(120)\n",
    "print(cuenta_1)\n",
    "cuenta_1.retirar(50)"
   ]
  },
  {
   "cell_type": "markdown",
   "id": "3324bb9b",
   "metadata": {},
   "source": [
    "#### **EJERCICIO 8.** Usa **@property** para controlar el valor de edad, impidiendo negativos."
   ]
  },
  {
   "cell_type": "code",
   "execution_count": 52,
   "id": "746e2784",
   "metadata": {},
   "outputs": [
    {
     "name": "stdout",
     "output_type": "stream",
     "text": [
      "Wilmer tiene 30 años\n",
      "La edad no puede ser negativa\n",
      "Wilmer ahora tiene 38 años\n"
     ]
    }
   ],
   "source": [
    "class Persona:\n",
    "    def __init__(self, nombre, edad):\n",
    "        self.nombre = nombre\n",
    "        self._edad = edad\n",
    "\n",
    "    @property\n",
    "    def edad(self):\n",
    "        return self._edad\n",
    "\n",
    "    @edad.setter\n",
    "    def edad(self, valor):\n",
    "        if valor < 0:\n",
    "            raise ValueError(\"La edad no puede ser negativa\")\n",
    "        self._edad = valor\n",
    "\n",
    "    def __str__(self):\n",
    "        return f\"Mi nombre es {self.nombre} y tengo {self.edad} de edad\"\n",
    "    \n",
    "persona = Persona(\"Wilmer\", 30)\n",
    "print(f\"{persona.nombre} tiene {persona.edad} años\")\n",
    "\n",
    "try:\n",
    "    persona.edad = -38  # Esto arroja un error\n",
    "except ValueError as e:\n",
    "    print(e)\n",
    "\n",
    "persona.edad = 38\n",
    "print(f\"{persona.nombre} ahora tiene {persona.edad} años\")"
   ]
  },
  {
   "cell_type": "markdown",
   "id": "6a704790",
   "metadata": {},
   "source": [
    "#### **EJERCICIO 9.** Crea una clase abstracta **Figura** con un metodo **area()**"
   ]
  },
  {
   "cell_type": "code",
   "execution_count": 53,
   "id": "f9f698b4",
   "metadata": {},
   "outputs": [
    {
     "name": "stdout",
     "output_type": "stream",
     "text": [
      "Triangulo de base 5 y altura 10 tiene un area de 25.0\n"
     ]
    }
   ],
   "source": [
    "from abc import ABC, abstractmethod\n",
    "class Figura(ABC):\n",
    "    @abstractmethod\n",
    "    def area(self):\n",
    "        pass\n",
    "\n",
    "class Triangulo(Figura):\n",
    "    def __init__(self, base, altura):\n",
    "        self.base = base\n",
    "        self.altura = altura\n",
    "        \n",
    "    def area(self):\n",
    "        return (self.base * self.altura) / 2\n",
    "    \n",
    "    def __str__(self):\n",
    "        return f\"Triangulo de base {self.base} y altura {self.altura} tiene un area de {self.area()}\"\n",
    "\n",
    "print(Triangulo(5, 10))"
   ]
  },
  {
   "cell_type": "markdown",
   "id": "52b8d945",
   "metadata": {},
   "source": [
    "#### **EJERCICIO 10.** Clase **Estudiante** con distintos niveles de acceso. Crea una clase **Estudiante** con los siguientes atributos: **+ nombre:** atributo publico, **+ nota:** atributo protegido (por convencion), **+ dni:** atributo privadoy. debe incluir los metodos **mostrar_info()** que imprima los tres atributos, **cambiar_nota()** que permita modificar **nota**, **acceder_dni()** que permita leer el **dni**"
   ]
  },
  {
   "cell_type": "code",
   "execution_count": 54,
   "id": "f4d80165",
   "metadata": {},
   "outputs": [
    {
     "name": "stdout",
     "output_type": "stream",
     "text": [
      "Nombre: Wilmer, Nota: 9.5, DNI: 12345678A\n",
      "Nombre: Wilmer, Nota: 10, DNI: 12345678A\n",
      "Error: 'Estudiante' object has no attribute '__dni'\n",
      "DNI ESTUDIANTE: 12345678A\n"
     ]
    }
   ],
   "source": [
    "class Estudiante:\n",
    "    def __init__(self, nombre, nota, dni):\n",
    "        self.nombre = nombre\n",
    "        self._nota = nota  # Atributo protegido\n",
    "        self.__dni = dni   # Atributo privado\n",
    "\n",
    "    def mostrar_info(self):\n",
    "        return f\"Nombre: {self.nombre}, Nota: {self._nota}, DNI: {self.__dni}\"\n",
    "\n",
    "    def cambiar_nota(self, nueva_nota):\n",
    "        self._nota = nueva_nota\n",
    "\n",
    "    def acceder_dni(self):\n",
    "        return self.__dni\n",
    "    \n",
    "estudiante = Estudiante(\"Wilmer\", 9.5, \"12345678A\")\n",
    "print(estudiante.mostrar_info())\n",
    "estudiante.cambiar_nota(10)\n",
    "print(estudiante.mostrar_info())\n",
    "try:\n",
    "    print(f\"DNI ESTUDIANTE (directo): {estudiante.__dni}\")  # Esto seguirá generando error\n",
    "except AttributeError as e:\n",
    "    print(f\"Error: {e}\")\n",
    "\n",
    "print(f\"DNI ESTUDIANTE: {estudiante.acceder_dni()}\")  # Acceso al DNI a través del método\n",
    "\n"
   ]
  }
 ],
 "metadata": {
  "kernelspec": {
   "display_name": "python-starter",
   "language": "python",
   "name": "conda-env-python-starter"
  },
  "language_info": {
   "codemirror_mode": {
    "name": "ipython",
    "version": 3
   },
   "file_extension": ".py",
   "mimetype": "text/x-python",
   "name": "python",
   "nbconvert_exporter": "python",
   "pygments_lexer": "ipython3",
   "version": "3.11.11"
  }
 },
 "nbformat": 4,
 "nbformat_minor": 5
}
